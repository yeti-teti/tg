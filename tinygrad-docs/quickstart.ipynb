{
 "cells": [
  {
   "cell_type": "code",
   "execution_count": 2,
   "metadata": {},
   "outputs": [],
   "source": [
    "import numpy as np\n",
    "from tinygrad.helpers import Timing"
   ]
  },
  {
   "cell_type": "code",
   "execution_count": 3,
   "metadata": {},
   "outputs": [],
   "source": [
    "from tinygrad import Tensor"
   ]
  },
  {
   "cell_type": "code",
   "execution_count": 4,
   "metadata": {},
   "outputs": [],
   "source": [
    "t1 = Tensor([1,2,3,4,5])\n",
    "na = np.array([1,2,3,4,5])\n",
    "t2 = Tensor(na)"
   ]
  },
  {
   "cell_type": "code",
   "execution_count": 8,
   "metadata": {},
   "outputs": [
    {
     "data": {
      "text/plain": [
       "array([[5, 5, 5],\n",
       "       [5, 5, 5]], dtype=int32)"
      ]
     },
     "execution_count": 8,
     "metadata": {},
     "output_type": "execute_result"
    }
   ],
   "source": [
    "full = Tensor.full(shape=(2,3), fill_value=5)\n",
    "full.numpy()"
   ]
  },
  {
   "cell_type": "code",
   "execution_count": 12,
   "metadata": {},
   "outputs": [
    {
     "name": "stdout",
     "output_type": "stream",
     "text": [
      "[[0. 0. 0.]\n",
      " [0. 0. 0.]]\n",
      "[[1. 1. 1.]\n",
      " [1. 1. 1.]]\n"
     ]
    }
   ],
   "source": [
    "zeros = Tensor.zeros(2,3)\n",
    "print(zeros.numpy())\n",
    "ones = Tensor.ones(2,3)\n",
    "print(ones.numpy())"
   ]
  },
  {
   "cell_type": "code",
   "execution_count": 15,
   "metadata": {},
   "outputs": [
    {
     "name": "stdout",
     "output_type": "stream",
     "text": [
      "[[2 2 2]\n",
      " [2 2 2]]\n",
      "[[0 0 0]\n",
      " [0 0 0]]\n",
      "[[1 1 1]\n",
      " [1 1 1]]\n"
     ]
    }
   ],
   "source": [
    "full_like = Tensor.full_like(full, fill_value=2)\n",
    "print(full_like.numpy())\n",
    "zeros_like = Tensor.zeros_like(full)\n",
    "print(zeros_like.numpy())\n",
    "ones_like = Tensor.ones_like(full)\n",
    "print(ones_like.numpy())"
   ]
  },
  {
   "cell_type": "code",
   "execution_count": 17,
   "metadata": {},
   "outputs": [
    {
     "name": "stdout",
     "output_type": "stream",
     "text": [
      "[[1. 0. 0.]\n",
      " [0. 1. 0.]\n",
      " [0. 0. 1.]]\n",
      "[0 1 2 3 4 5 6 7 8 9]\n"
     ]
    }
   ],
   "source": [
    "eye = Tensor.eye(3)\n",
    "print(eye.numpy())\n",
    "arange = Tensor.arange(start=0, stop=10, step=1)\n",
    "print(arange.numpy())"
   ]
  },
  {
   "cell_type": "code",
   "execution_count": 20,
   "metadata": {},
   "outputs": [
    {
     "name": "stdout",
     "output_type": "stream",
     "text": [
      "[[0.55006063 0.9794905  0.6698835 ]\n",
      " [0.50536907 0.20245743 0.34587526]]\n",
      "[[-1.0196397  -0.21291831  1.0557469 ]\n",
      " [ 1.2318832  -2.3998892   0.54259   ]]\n",
      "[[4.468341  1.5921855 1.211685 ]\n",
      " [3.7904835 5.9335613 1.611501 ]]\n"
     ]
    }
   ],
   "source": [
    "rand = Tensor.rand(2, 3)\n",
    "print(rand.numpy())\n",
    "randn = Tensor.randn(2, 3)\n",
    "print(randn.numpy())\n",
    "uniform = Tensor.uniform(2, 3, low=0, high=10)\n",
    "print(uniform.numpy())"
   ]
  },
  {
   "cell_type": "code",
   "execution_count": 24,
   "metadata": {},
   "outputs": [
    {
     "data": {
      "text/plain": [
       "array([1, 2, 3, 4, 5], dtype=int32)"
      ]
     },
     "execution_count": 24,
     "metadata": {},
     "output_type": "execute_result"
    }
   ],
   "source": [
    "from tinygrad import dtypes\n",
    "\n",
    "t3 = Tensor([1, 2, 3, 4, 5], dtype=dtypes.int32)\n",
    "t3.numpy()"
   ]
  },
  {
   "cell_type": "code",
   "execution_count": 26,
   "metadata": {},
   "outputs": [
    {
     "name": "stdout",
     "output_type": "stream",
     "text": [
      "[-56. -48. -36. -20.   0.]\n"
     ]
    }
   ],
   "source": [
    "t4 = Tensor([1, 2, 3, 4, 5])\n",
    "t5 = (t4 + 1) * 2\n",
    "t6 = (t5 * t4).relu().log_softmax()\n",
    "print(t6.numpy())"
   ]
  },
  {
   "cell_type": "code",
   "execution_count": 29,
   "metadata": {},
   "outputs": [],
   "source": [
    "class Linear:\n",
    "    def __init__(self, in_features, out_features, bias=True, initialization: str='kaiming_uniform'):\n",
    "        self.weight = getattr(Tensor, initialization)(out_features, in_features)\n",
    "        self.bias = Tensor.zeros(out_features) if bias else None\n",
    "    \n",
    "    def __call__(self, x):\n",
    "        return x.linear(self.weight.transpose(), self.bias)"
   ]
  },
  {
   "cell_type": "code",
   "execution_count": 30,
   "metadata": {},
   "outputs": [],
   "source": [
    "class TinyNet:\n",
    "    def __init__(self):\n",
    "        self.l1 = Linear(784, 128, bias=False)\n",
    "        self.l2 = Linear(128, 10, bias=False)\n",
    "    def __call__(self, x):\n",
    "        x = self.l1(x)\n",
    "        x = x.leakyrelu()\n",
    "        x = self.l2(x)\n",
    "        return x\n",
    "\n",
    "net = TinyNet()"
   ]
  },
  {
   "cell_type": "code",
   "execution_count": 35,
   "metadata": {},
   "outputs": [],
   "source": [
    "def sparse_categorical_crossentropy(self, Y, ignore_index=-1) -> Tensor:\n",
    "    loss_mask = Y != ignore_index\n",
    "    y_counter = Tensor.arange(self.shape[-1], dtype=dtypes.int32, requires_grad=False, device=self.device).unsqueeze(0).expand(Y.numel(), self.shape[-1])\n",
    "    y = ((y_counter == Y.flatten().reshape(-1, 1)).where(-1.0, 0) * loss_mask.reshape(-1, 1)).reshape(*Y.shape, self.shape[-1])\n",
    "    return self.log_softmax().mul(y).sum() / loss_mask.sum()"
   ]
  },
  {
   "cell_type": "code",
   "execution_count": 32,
   "metadata": {},
   "outputs": [],
   "source": [
    "from tinygrad.nn.optim import SGD\n",
    "\n",
    "opt = SGD([net.l1.weight, net.l2.weight], lr=3e-4)"
   ]
  },
  {
   "cell_type": "code",
   "execution_count": 33,
   "metadata": {},
   "outputs": [],
   "source": [
    "from extra.datasets import fetch_mnist"
   ]
  },
  {
   "cell_type": "code",
   "execution_count": 36,
   "metadata": {},
   "outputs": [
    {
     "name": "stdout",
     "output_type": "stream",
     "text": [
      "Step 1 | Loss: 133.93321228027344 | Accuracy: 0.0625\n",
      "Step 101 | Loss: 12.861961364746094 | Accuracy: 0.671875\n",
      "Step 201 | Loss: 3.878391981124878 | Accuracy: 0.84375\n",
      "Step 301 | Loss: 6.062280654907227 | Accuracy: 0.859375\n",
      "Step 401 | Loss: 2.115926504135132 | Accuracy: 0.890625\n",
      "Step 501 | Loss: 1.229720115661621 | Accuracy: 0.953125\n",
      "Step 601 | Loss: 2.6987829208374023 | Accuracy: 0.953125\n",
      "Step 701 | Loss: 0.9411423802375793 | Accuracy: 0.921875\n",
      "Step 801 | Loss: 2.1055243015289307 | Accuracy: 0.828125\n",
      "Step 901 | Loss: 2.979787826538086 | Accuracy: 0.9375\n"
     ]
    }
   ],
   "source": [
    "X_train, Y_train, X_test, Y_test = fetch_mnist()\n",
    "\n",
    "with Tensor.train():\n",
    "    for step in range(1000):\n",
    "        samp = np.random.randint(0, X_train.shape[0], size=(64))\n",
    "        batch = Tensor(X_train[samp], requires_grad=False)\n",
    "        labels = Tensor(Y_train[samp])\n",
    "\n",
    "        out = net(batch)\n",
    "\n",
    "        loss = sparse_categorical_crossentropy(out, labels)\n",
    "\n",
    "        opt.zero_grad()\n",
    "\n",
    "        loss.backward()\n",
    "\n",
    "        opt.step()\n",
    "\n",
    "        pred = out.argmax(axis=-1)\n",
    "        acc = (pred == labels).mean()\n",
    "\n",
    "        if step % 100 == 0:\n",
    "            print(f\"Step {step+1} | Loss: {loss.numpy()} | Accuracy: {acc.numpy()}\")"
   ]
  },
  {
   "cell_type": "code",
   "execution_count": 38,
   "metadata": {},
   "outputs": [
    {
     "name": "stdout",
     "output_type": "stream",
     "text": [
      "Test Accuracy: 0.8896875\n",
      "Time: 6915.36 ms\n"
     ]
    }
   ],
   "source": [
    "with Timing(\"Time: \"):\n",
    "  avg_acc = 0\n",
    "  for step in range(1000):\n",
    "    # random sample a batch\n",
    "    samp = np.random.randint(0, X_test.shape[0], size=(64))\n",
    "    batch = Tensor(X_test[samp], requires_grad=False)\n",
    "    # get the corresponding labels\n",
    "    labels = Y_test[samp]\n",
    "\n",
    "    # forward pass\n",
    "    out = net(batch)\n",
    "\n",
    "    # calculate accuracy\n",
    "    pred = out.argmax(axis=-1).numpy()\n",
    "    avg_acc += (pred == labels).mean()\n",
    "  print(f\"Test Accuracy: {avg_acc / 1000}\")"
   ]
  },
  {
   "cell_type": "code",
   "execution_count": null,
   "metadata": {},
   "outputs": [],
   "source": []
  }
 ],
 "metadata": {
  "kernelspec": {
   "display_name": "tg-venv",
   "language": "python",
   "name": "python3"
  },
  "language_info": {
   "codemirror_mode": {
    "name": "ipython",
    "version": 3
   },
   "file_extension": ".py",
   "mimetype": "text/x-python",
   "name": "python",
   "nbconvert_exporter": "python",
   "pygments_lexer": "ipython3",
   "version": "3.10.0"
  }
 },
 "nbformat": 4,
 "nbformat_minor": 2
}
