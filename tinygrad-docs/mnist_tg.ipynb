{
 "cells": [
  {
   "cell_type": "code",
   "execution_count": 1,
   "metadata": {},
   "outputs": [
    {
     "name": "stdout",
     "output_type": "stream",
     "text": [
      "METAL\n"
     ]
    }
   ],
   "source": [
    "from tinygrad import Device\n",
    "print(Device.DEFAULT)"
   ]
  },
  {
   "cell_type": "code",
   "execution_count": 2,
   "metadata": {},
   "outputs": [],
   "source": [
    "from tinygrad import Tensor, nn\n",
    "\n",
    "class Model:\n",
    "    def __init__(self):\n",
    "        self.l1 = nn.Conv2d(1, 32, kernel_size=(3,3))\n",
    "        self.l2 = nn.Conv2d(32, 64, kernel_size=(3,3))\n",
    "        self.l3 = nn.Linear(1600, 10)\n",
    "    def __call__(self, x:Tensor) -> Tensor:\n",
    "        x = self.l1(x).relu().max_pool2d((2,2))\n",
    "        x = self.l2(x).relu().max_pool2d((2,2))\n",
    "        return self.l3(x.flatten(1).dropout(0.5))"
   ]
  },
  {
   "cell_type": "code",
   "execution_count": 3,
   "metadata": {},
   "outputs": [
    {
     "name": "stdout",
     "output_type": "stream",
     "text": [
      "(60000, 1, 28, 28) dtypes.uchar (60000,) dtypes.uchar\n"
     ]
    }
   ],
   "source": [
    "from tinygrad.nn.datasets import mnist\n",
    "\n",
    "X_train, Y_train, X_test, Y_test = mnist()\n",
    "print(X_train.shape, X_train.dtype, Y_train.shape, Y_train.dtype)"
   ]
  },
  {
   "cell_type": "code",
   "execution_count": 4,
   "metadata": {},
   "outputs": [
    {
     "name": "stdout",
     "output_type": "stream",
     "text": [
      "0.09309999644756317\n"
     ]
    }
   ],
   "source": [
    "model = Model()\n",
    "acc = (model(X_test).argmax(axis=1) == Y_test).mean()\n",
    "print(acc.item())"
   ]
  },
  {
   "cell_type": "code",
   "execution_count": 6,
   "metadata": {},
   "outputs": [],
   "source": [
    "optim = nn.optim.Adam(nn.state.get_parameters(model))\n",
    "batch_size = 128\n",
    "def step():\n",
    "    Tensor.training = True\n",
    "    samples = Tensor.randint(batch_size, high=X_train.shape[0])\n",
    "    X, Y = X_train[samples], Y_train[samples]\n",
    "    optim.zero_grad()\n",
    "    loss = model(X).sparse_categorical_crossentropy(Y).backward()\n",
    "    optim.step()\n",
    "    return loss"
   ]
  },
  {
   "cell_type": "code",
   "execution_count": 7,
   "metadata": {},
   "outputs": [
    {
     "data": {
      "text/plain": [
       "[1.4108480419999978,\n",
       " 0.2443342919996212,\n",
       " 0.07059229199876427,\n",
       " 0.0699064170003112,\n",
       " 0.06788008300100046]"
      ]
     },
     "execution_count": 7,
     "metadata": {},
     "output_type": "execute_result"
    }
   ],
   "source": [
    "import timeit\n",
    "timeit.repeat(step, repeat=5, number=1)"
   ]
  },
  {
   "cell_type": "code",
   "execution_count": 8,
   "metadata": {},
   "outputs": [
    {
     "name": "stdout",
     "output_type": "stream",
     "text": [
      "scheduled 49 kernels\n",
      "*** METAL      1 E_\u001b[90mn11\u001b[0m                                     arg  1 mem  0.06 GB tm      7.37us/     0.01ms (     0.00 GFLOPS    0.0|0.0     GB/s) ['__imul__']\n",
      "*** METAL      2 E_\u001b[90mn12\u001b[0m                                     arg  1 mem  0.06 GB tm      6.83us/     0.01ms (     0.00 GFLOPS    0.0|0.0     GB/s) ['__imul__']\n",
      "*** METAL      3 E_\u001b[90mn6\u001b[0m                                      arg  1 mem  0.06 GB tm      6.37us/     0.02ms (     0.00 GFLOPS    0.0|0.0     GB/s) ['randint']\n",
      "*** METAL      4 r_\u001b[34m625\u001b[0m\u001b[90m_\u001b[0m\u001b[36m32\u001b[0m\u001b[90m_\u001b[0m\u001b[31m15000\u001b[0m\u001b[90m_\u001b[0m\u001b[33m3\u001b[0m\u001b[90m_\u001b[0m\u001b[35m4\u001b[0m\u001b[90m\u001b[0m                        arg  1 mem  0.06 GB tm      8.00us/     0.03ms (    57.50 GFLOPS   30.0|30.0    GB/s) ['__getitem__']\n",
      "*** METAL      5 r_\u001b[34m5\u001b[0m\u001b[90m_\u001b[0m\u001b[36m2\u001b[0m\u001b[90m_\u001b[0m\u001b[35m10\u001b[0m\u001b[90mn1\u001b[0m                                arg  1 mem  0.06 GB tm      5.58us/     0.03ms (     0.06 GFLOPS    0.0|0.0     GB/s) ['sparse_categorical_crossentropy']\n",
      "*** METAL      6 E_\u001b[90mn10\u001b[0m                                     arg  2 mem  0.06 GB tm      6.21us/     0.04ms (     0.00 GFLOPS    0.0|0.0     GB/s) ['__rsub__']\n",
      "*** METAL      7 E_\u001b[90mn10\u001b[0m                                     arg  2 mem  0.06 GB tm      6.13us/     0.05ms (     0.00 GFLOPS    0.0|0.0     GB/s) ['__rsub__']\n",
      "*** METAL      8 E_\u001b[90mn9\u001b[0m                                      arg  2 mem  0.06 GB tm      6.25us/     0.05ms (     0.00 GFLOPS    0.0|0.0     GB/s) ['dropout']\n",
      "*** METAL      9 r_\u001b[34m64\u001b[0m\u001b[90m_\u001b[0m\u001b[32m16\u001b[0m\u001b[90m_\u001b[0m\u001b[31m4\u001b[0m\u001b[90m\u001b[0m                                 arg  2 mem  0.06 GB tm      6.33us/     0.06ms (     4.37 GFLOPS    0.0|12.3    GB/s) ['randint']\n",
      "*** METAL     10 r_\u001b[34m800\u001b[0m\u001b[90m_\u001b[0m\u001b[36m32\u001b[0m\u001b[90m_\u001b[0m\u001b[31m25600\u001b[0m\u001b[90m_\u001b[0m\u001b[33m4\u001b[0m\u001b[90m_\u001b[0m\u001b[35m4\u001b[0m\u001b[90m\u001b[0m                        arg  2 mem  0.06 GB tm      9.33us/     0.07ms (    54.86 GFLOPS   43.9|54.9    GB/s) ['dropout']\n",
      "*** METAL     11 E_\u001b[36m16\u001b[0m\u001b[90m_\u001b[0m\u001b[33m4\u001b[0m\u001b[90mn4\u001b[0m                                  arg  3 mem  0.06 GB tm     12.37us/     0.08ms (     0.77 GFLOPS    0.0|0.1     GB/s) ['randint']\n",
      "*** METAL     12 E_\u001b[34m800\u001b[0m\u001b[90m_\u001b[0m\u001b[36m32\u001b[0m\u001b[90m_\u001b[0m\u001b[33m4\u001b[0m\u001b[90m\u001b[0m                                arg  3 mem  0.06 GB tm     40.17us/     0.12ms (   379.22 GFLOPS   20.4|25.5    GB/s) ['dropout']\n",
      "*** METAL     13 E_\u001b[36m32\u001b[0m\u001b[90m_\u001b[0m\u001b[33m4\u001b[0m\u001b[90m\u001b[0m                                    arg  4 mem  0.06 GB tm     15.96us/     0.14ms (     1.15 GFLOPS    0.1|0.1     GB/s) ['randint']\n",
      "*** METAL     14 E_\u001b[34m1600\u001b[0m\u001b[90m_\u001b[0m\u001b[36m32\u001b[0m\u001b[90m_\u001b[0m\u001b[33m4\u001b[0m\u001b[90m\u001b[0m                               arg  4 mem  0.06 GB tm     60.62us/     0.20ms (   483.07 GFLOPS   33.8|47.3    GB/s) ['dropout']\n",
      "\u001b[32m*** METAL     15\u001b[0m \u001b[33mview      512 @ 0         \u001b[0m                arg  2 mem  0.06 GB \n",
      "\u001b[32m*** METAL     16\u001b[0m \u001b[33mview   819200 @ 0         \u001b[0m                arg  2 mem  0.06 GB \n",
      "*** METAL     17 E_\u001b[36m32\u001b[0m\u001b[90m_\u001b[0m\u001b[33m4\u001b[0m\u001b[90mn1\u001b[0m                                  arg  2 mem  0.06 GB tm      6.00us/     0.20ms (     0.02 GFLOPS    0.2|0.2     GB/s) ['randint']\n",
      "*** METAL     18 E_\u001b[34m1600\u001b[0m\u001b[90m_\u001b[0m\u001b[36m32\u001b[0m\u001b[90m_\u001b[0m\u001b[33m4\u001b[0m\u001b[90mn1\u001b[0m                             arg  2 mem  0.06 GB tm     13.67us/     0.22ms (    29.97 GFLOPS   74.9|74.9    GB/s) ['dropout']\n",
      "*** METAL     19 E_\u001b[36m32\u001b[0m\u001b[90m_\u001b[0m\u001b[33m4\u001b[0m\u001b[90mn2\u001b[0m                                  arg  2 mem  0.06 GB tm      6.54us/     0.22ms (     0.08 GFLOPS    0.2|0.2     GB/s) ['randint', '__getitem__']\n",
      "*** METAL     20 r_\u001b[34m8\u001b[0m\u001b[90m_\u001b[0m\u001b[34m49\u001b[0m\u001b[90m_\u001b[0m\u001b[34m5\u001b[0m\u001b[90m_\u001b[0m\u001b[36m4\u001b[0m\u001b[90m_\u001b[0m\u001b[36m4\u001b[0m\u001b[90m_\u001b[0m\u001b[36m8\u001b[0m\u001b[90m_\u001b[0m\u001b[31m375\u001b[0m\u001b[90m_\u001b[0m\u001b[33m4\u001b[0m\u001b[90m_\u001b[0m\u001b[33m4\u001b[0m\u001b[90m_\u001b[0m\u001b[35m4\u001b[0m\u001b[90m\u001b[0m                  arg  4 mem  0.06 GB tm \u001b[33m    39.87ms\u001b[0m/    40.09ms (   377.58 GFLOPS    1.3|75.7    GB/s) ['__getitem__']\n",
      "*** METAL     21 r_\u001b[34m125\u001b[0m\u001b[90m_\u001b[0m\u001b[36m32\u001b[0m\u001b[90m_\u001b[0m\u001b[36m2\u001b[0m\u001b[90m_\u001b[0m\u001b[31m60\u001b[0m\u001b[90m_\u001b[0m\u001b[33m4\u001b[0m\u001b[90m_\u001b[0m\u001b[35m4\u001b[0m\u001b[90m\u001b[0m                         arg  4 mem  0.06 GB tm     20.42us/    40.11ms (  1504.65 GFLOPS   16.3|478.0   GB/s) ['__getitem__']\n",
      "*** METAL     22 r_\u001b[34m3136\u001b[0m\u001b[90m_\u001b[0m\u001b[36m32\u001b[0m\u001b[90m_\u001b[0m\u001b[31m10\u001b[0m\u001b[90m_\u001b[0m\u001b[35m4\u001b[0m\u001b[90m\u001b[0m                            arg  2 mem  0.06 GB tm     56.25us/    40.17ms (    71.36 GFLOPS   73.1|73.1    GB/s) ['__getitem__']\n",
      "*** METAL     23 r_\u001b[34m4\u001b[0m\u001b[90m_\u001b[0m\u001b[36m32\u001b[0m\u001b[90m_\u001b[0m\u001b[31m250\u001b[0m\u001b[90m\u001b[0m                                arg  2 mem  0.06 GB tm      6.04us/    40.17ms (     5.30 GFLOPS    5.4|5.4     GB/s) ['sparse_categorical_crossentropy', '__getitem__']\n",
      "*** METAL     24 r_\u001b[34m32\u001b[0m\u001b[90m_\u001b[0m\u001b[34m13\u001b[0m\u001b[90m_\u001b[0m\u001b[34m13\u001b[0m\u001b[90m_\u001b[0m\u001b[36m8\u001b[0m\u001b[90m_\u001b[0m\u001b[36m2\u001b[0m\u001b[90m_\u001b[0m\u001b[36m2\u001b[0m\u001b[90m_\u001b[0m\u001b[33m4\u001b[0m\u001b[90m_\u001b[0m\u001b[33m4\u001b[0m\u001b[90m_\u001b[0m\u001b[35m3\u001b[0m\u001b[90m_\u001b[0m\u001b[35m3\u001b[0m\u001b[90m\u001b[0m                  arg  4 mem  0.07 GB tm    197.25us/    40.37ms (   252.67 GFLOPS   56.7|228.1   GB/s) ['conv2d']\n",
      "*** METAL     25 r_\u001b[34m416\u001b[0m\u001b[90m_\u001b[0m\u001b[34m13\u001b[0m\u001b[90m_\u001b[0m\u001b[36m32\u001b[0m\u001b[90m_\u001b[0m\u001b[33m4\u001b[0m\u001b[90m_\u001b[0m\u001b[35m2\u001b[0m\u001b[90m_\u001b[0m\u001b[35m2\u001b[0m\u001b[90m\u001b[0m                         arg  2 mem  0.07 GB tm    405.50us/    40.78ms (    23.90 GFLOPS   34.1|34.1    GB/s) ['relu', 'max_pool2d']\n",
      "*** METAL     26 r_\u001b[34m416\u001b[0m\u001b[90m_\u001b[0m\u001b[34m13\u001b[0m\u001b[90m_\u001b[0m\u001b[36m32\u001b[0m\u001b[90m_\u001b[0m\u001b[33m4\u001b[0m\u001b[90m_\u001b[0m\u001b[35m2\u001b[0m\u001b[90m_\u001b[0m\u001b[35m2\u001b[0m\u001b[90mn1\u001b[0m                       arg  3 mem  0.07 GB tm    503.13us/    41.28ms (    26.14 GFLOPS   33.0|33.0    GB/s) ['relu', 'max_pool2d bw']\n",
      "*** METAL     27 r_\u001b[34m4\u001b[0m\u001b[90m_\u001b[0m\u001b[34m11\u001b[0m\u001b[90m_\u001b[0m\u001b[34m11\u001b[0m\u001b[90m_\u001b[0m\u001b[36m8\u001b[0m\u001b[90m_\u001b[0m\u001b[36m16\u001b[0m\u001b[90m_\u001b[0m\u001b[31m32\u001b[0m\u001b[90m_\u001b[0m\u001b[33m4\u001b[0m\u001b[90m_\u001b[0m\u001b[33m4\u001b[0m\u001b[90m_\u001b[0m\u001b[35m3\u001b[0m\u001b[90m_\u001b[0m\u001b[35m3\u001b[0m\u001b[90m\u001b[0m                 arg  4 mem  0.08 GB tm    948.96us/    42.23ms (   602.70 GFLOPS    7.2|606.9   GB/s) ['conv2d']\n",
      "*** METAL     28 r_\u001b[34m64\u001b[0m\u001b[90m_\u001b[0m\u001b[34m5\u001b[0m\u001b[90m_\u001b[0m\u001b[34m5\u001b[0m\u001b[90m_\u001b[0m\u001b[36m32\u001b[0m\u001b[90m_\u001b[0m\u001b[33m4\u001b[0m\u001b[90m_\u001b[0m\u001b[35m2\u001b[0m\u001b[90m_\u001b[0m\u001b[35m2\u001b[0m\u001b[90m\u001b[0m                         arg  2 mem  0.08 GB tm     68.25us/    42.30ms (    42.01 GFLOPS   60.0|60.0    GB/s) ['relu', 'max_pool2d']\n",
      "*** METAL     29 r_\u001b[34m64\u001b[0m\u001b[90m_\u001b[0m\u001b[34m5\u001b[0m\u001b[90m_\u001b[0m\u001b[34m5\u001b[0m\u001b[90m_\u001b[0m\u001b[36m32\u001b[0m\u001b[90m_\u001b[0m\u001b[33m4\u001b[0m\u001b[90m_\u001b[0m\u001b[35m2\u001b[0m\u001b[90m_\u001b[0m\u001b[35m2\u001b[0m\u001b[90mn1\u001b[0m                       arg  3 mem  0.08 GB tm     92.83us/    42.39ms (    41.92 GFLOPS   52.9|52.9    GB/s) ['relu', 'max_pool2d bw']\n",
      "*** METAL     30 E_\u001b[34m1600\u001b[0m\u001b[90m_\u001b[0m\u001b[36m32\u001b[0m\u001b[90m_\u001b[0m\u001b[33m4\u001b[0m\u001b[90mn2\u001b[0m                             arg  3 mem  0.08 GB tm     13.42us/    42.40ms (    30.53 GFLOPS  137.4|137.4   GB/s) ['dropout']\n",
      "*** METAL     31 r_\u001b[34m128\u001b[0m\u001b[90m_\u001b[0m\u001b[34m10\u001b[0m\u001b[90m_\u001b[0m\u001b[32m16\u001b[0m\u001b[90m_\u001b[0m\u001b[31m100\u001b[0m\u001b[90m\u001b[0m                           arg  4 mem  0.08 GB tm     82.50us/    42.48ms (    53.87 GFLOPS   10.8|217.5   GB/s) ['linear']\n",
      "*** METAL     32 r_\u001b[34m4\u001b[0m\u001b[90m_\u001b[0m\u001b[36m32\u001b[0m\u001b[90m_\u001b[0m\u001b[35m10\u001b[0m\u001b[90m\u001b[0m                                 arg  2 mem  0.08 GB tm      2.46us/    42.49ms (     0.94 GFLOPS    2.3|2.3     GB/s) ['sparse_categorical_crossentropy']\n",
      "*** METAL     33 r_\u001b[34m4\u001b[0m\u001b[90m_\u001b[0m\u001b[36m32\u001b[0m\u001b[90m_\u001b[0m\u001b[35m10\u001b[0m\u001b[90mn1\u001b[0m                               arg  3 mem  0.08 GB tm      2.75us/    42.49ms (     1.82 GFLOPS    2.2|2.2     GB/s) ['sparse_categorical_crossentropy']\n",
      "*** METAL     34 r_\u001b[34m4\u001b[0m\u001b[90m_\u001b[0m\u001b[36m32\u001b[0m\u001b[90m_\u001b[0m\u001b[35m10\u001b[0m\u001b[90mn2\u001b[0m                               arg  4 mem  0.08 GB tm      3.25us/    42.49ms (     1.61 GFLOPS    0.5|2.0     GB/s) ['sparse_categorical_crossentropy bw', 'sparse_categorical_crossentropy']\n",
      "*** METAL     35 E_\u001b[34m5\u001b[0m\u001b[90m_\u001b[0m\u001b[36m32\u001b[0m\u001b[90m_\u001b[0m\u001b[36m2\u001b[0m\u001b[90m_\u001b[0m\u001b[33m4\u001b[0m\u001b[90m\u001b[0m                                arg  6 mem  0.08 GB tm      2.62us/    42.50ms (     3.90 GFLOPS    4.5|10.2    GB/s) ['sparse_categorical_crossentropy bw', 'sparse_categorical_crossentropy', '__add__']\n",
      "*** METAL     36 r3_\u001b[34m10\u001b[0m\u001b[90m_\u001b[0m\u001b[32m16\u001b[0m\u001b[90m_\u001b[0m\u001b[31m8\u001b[0m\u001b[90mn1\u001b[0m                              arg  7 mem  0.08 GB tm      2.92us/    42.50ms (     2.19 GFLOPS    1.8|7.5     GB/s) ['__rmul__', '__truediv__', '__mul__', 'linear bw', '__add__', 'assign']\n",
      "*** METAL     37 r_\u001b[34m4\u001b[0m\u001b[90m_\u001b[0m\u001b[34m25\u001b[0m\u001b[90m_\u001b[0m\u001b[36m8\u001b[0m\u001b[90m_\u001b[0m\u001b[36m16\u001b[0m\u001b[90m_\u001b[0m\u001b[33m4\u001b[0m\u001b[90m_\u001b[0m\u001b[33m4\u001b[0m\u001b[90m_\u001b[0m\u001b[35m10\u001b[0m\u001b[90m\u001b[0m                        arg  4 mem  0.08 GB tm     13.00us/    42.51ms (   330.83 GFLOPS   84.1|393.8   GB/s) ['dropout bw', 'linear bw']\n",
      "*** METAL     38 r3_\u001b[34m5\u001b[0m\u001b[90m_\u001b[0m\u001b[34m25\u001b[0m\u001b[90m_\u001b[0m\u001b[36m2\u001b[0m\u001b[90m_\u001b[0m\u001b[36m16\u001b[0m\u001b[90m_\u001b[0m\u001b[31m32\u001b[0m\u001b[90m_\u001b[0m\u001b[33m4\u001b[0m\u001b[90m_\u001b[0m\u001b[35m4\u001b[0m\u001b[90mn1\u001b[0m                     arg  8 mem  0.08 GB tm     19.63us/    42.53ms (   221.15 GFLOPS   61.6|543.8   GB/s) ['__rmul__', '__truediv__', '__mul__', 'linear bw', '__add__', 'assign']\n",
      "*** METAL     39 E_\u001b[34m64\u001b[0m\u001b[90m_\u001b[0m\u001b[34m5\u001b[0m\u001b[90m_\u001b[0m\u001b[34m5\u001b[0m\u001b[90m_\u001b[0m\u001b[36m32\u001b[0m\u001b[90m_\u001b[0m\u001b[36m2\u001b[0m\u001b[90m_\u001b[0m\u001b[36m2\u001b[0m\u001b[90m_\u001b[0m\u001b[33m4\u001b[0m\u001b[90m\u001b[0m                         arg  5 mem  0.08 GB tm    440.25us/    42.97ms (    13.03 GFLOPS   22.0|37.2    GB/s) ['relu', 'max_pool2d bw']\n",
      "*** METAL     40 E_\u001b[34m16\u001b[0m\u001b[90m_\u001b[0m\u001b[34m11\u001b[0m\u001b[90m_\u001b[0m\u001b[34m11\u001b[0m\u001b[90m_\u001b[0m\u001b[36m8\u001b[0m\u001b[90m_\u001b[0m\u001b[36m16\u001b[0m\u001b[90m_\u001b[0m\u001b[33m4\u001b[0m\u001b[90m\u001b[0m                         arg  3 mem  0.08 GB tm    327.21us/    43.30ms (    12.12 GFLOPS   34.2|36.4    GB/s) ['relu', 'relu bw']\n",
      "*** METAL     41 r3_\u001b[34m64\u001b[0m\u001b[90m_\u001b[0m\u001b[32m16\u001b[0m\u001b[90m_\u001b[0m\u001b[31m8\u001b[0m\u001b[90m_\u001b[0m\u001b[31m121\u001b[0m\u001b[90mn1\u001b[0m                          arg  7 mem  0.08 GB tm     47.92us/    43.35ms (    21.37 GFLOPS   82.8|85.0    GB/s) ['__rmul__', '__truediv__', 'conv2d bw', '__mul__', '__add__', 'assign']\n",
      "*** METAL     42 r_\u001b[34m16\u001b[0m\u001b[90m_\u001b[0m\u001b[34m2\u001b[0m\u001b[90m_\u001b[0m\u001b[34m121\u001b[0m\u001b[90m_\u001b[0m\u001b[36m2\u001b[0m\u001b[90m_\u001b[0m\u001b[36m16\u001b[0m\u001b[90m_\u001b[0m\u001b[36m3\u001b[0m\u001b[90m_\u001b[0m\u001b[31m16\u001b[0m\u001b[90m_\u001b[0m\u001b[33m4\u001b[0m\u001b[90m_\u001b[0m\u001b[33m3\u001b[0m\u001b[90m_\u001b[0m\u001b[35m4\u001b[0m\u001b[90m\u001b[0m                arg  3 mem  0.09 GB tm   1447.50us/    44.79ms (   394.44 GFLOPS   15.1|472.5   GB/s) ['conv2d bw']\n",
      "*** METAL     43 r3_\u001b[34m8\u001b[0m\u001b[90m_\u001b[0m\u001b[34m2\u001b[0m\u001b[90m_\u001b[0m\u001b[36m2\u001b[0m\u001b[90m_\u001b[0m\u001b[36m16\u001b[0m\u001b[90m_\u001b[0m\u001b[36m3\u001b[0m\u001b[90m_\u001b[0m\u001b[31m128\u001b[0m\u001b[90m_\u001b[0m\u001b[31m11\u001b[0m\u001b[90m_\u001b[0m\u001b[33m4\u001b[0m\u001b[90m_\u001b[0m\u001b[33m3\u001b[0m\u001b[90m_\u001b[0m\u001b[35m11\u001b[0m\u001b[90mn1\u001b[0m             arg  8 mem  0.09 GB tm    858.25us/    45.65ms (   665.57 GFLOPS    8.4|575.1   GB/s) ['__rmul__', '__truediv__', 'conv2d bw', '__mul__', '__add__', 'assign']\n",
      "*** METAL     44 r_\u001b[34m128\u001b[0m\u001b[90m_\u001b[0m\u001b[34m13\u001b[0m\u001b[90m_\u001b[0m\u001b[34m13\u001b[0m\u001b[90m_\u001b[0m\u001b[36m32\u001b[0m\u001b[90m_\u001b[0m\u001b[31m4\u001b[0m\u001b[90m_\u001b[0m\u001b[35m4\u001b[0m\u001b[90m\u001b[0m                        arg  2 mem  0.10 GB tm    645.58us/    46.30ms (    12.87 GFLOPS   31.9|55.8    GB/s) ['conv2d bw']\n",
      "*** METAL     45 E_\u001b[34m32\u001b[0m\u001b[90m_\u001b[0m\u001b[34m13\u001b[0m\u001b[90m_\u001b[0m\u001b[34m13\u001b[0m\u001b[90m_\u001b[0m\u001b[36m32\u001b[0m\u001b[90m_\u001b[0m\u001b[36m2\u001b[0m\u001b[90m_\u001b[0m\u001b[36m2\u001b[0m\u001b[90m_\u001b[0m\u001b[33m4\u001b[0m\u001b[90m\u001b[0m                       arg  5 mem  0.09 GB tm   1585.54us/    47.88ms (    15.72 GFLOPS   19.2|34.9    GB/s) ['relu', 'relu bw', 'max_pool2d bw']\n",
      "*** METAL     46 r_\u001b[34m32\u001b[0m\u001b[90m_\u001b[0m\u001b[36m8\u001b[0m\u001b[90m_\u001b[0m\u001b[36m3\u001b[0m\u001b[90m_\u001b[0m\u001b[36m4\u001b[0m\u001b[90m_\u001b[0m\u001b[31m26\u001b[0m\u001b[90m_\u001b[0m\u001b[33m4\u001b[0m\u001b[90m_\u001b[0m\u001b[33m3\u001b[0m\u001b[90m_\u001b[0m\u001b[35m26\u001b[0m\u001b[90m\u001b[0m                      arg  3 mem  0.07 GB tm    197.88us/    48.08ms (   251.88 GFLOPS   57.2|180.0   GB/s) ['conv2d', 'conv2d bw']\n",
      "*** METAL     47 r_\u001b[34m4\u001b[0m\u001b[90m_\u001b[0m\u001b[34m8\u001b[0m\u001b[90m_\u001b[0m\u001b[36m8\u001b[0m\u001b[90m_\u001b[0m\u001b[36m16\u001b[0m\u001b[90m_\u001b[0m\u001b[31m169\u001b[0m\u001b[90m_\u001b[0m\u001b[35m4\u001b[0m\u001b[90m\u001b[0m                          arg  2 mem  0.07 GB tm    135.17us/    48.22ms (    20.49 GFLOPS   82.1|82.1    GB/s) ['conv2d bw']\n",
      "*** METAL     48 r3_\u001b[34m288\u001b[0m\u001b[90m_\u001b[0m\u001b[32m16\u001b[0m\u001b[90m_\u001b[0m\u001b[31m8\u001b[0m\u001b[90mn1\u001b[0m                             arg  7 mem  0.06 GB tm      4.88us/    48.22ms (    37.81 GFLOPS   31.7|128.6   GB/s) ['__rmul__', '__truediv__', 'conv2d bw', '__mul__', '__add__', 'assign']\n",
      "*** METAL     49 r3_\u001b[34m32\u001b[0m\u001b[90m_\u001b[0m\u001b[32m16\u001b[0m\u001b[90m_\u001b[0m\u001b[31m8\u001b[0m\u001b[90mn1\u001b[0m                              arg  7 mem  0.06 GB tm      2.75us/    48.22ms (     7.45 GFLOPS    6.2|25.3    GB/s) ['__rmul__', '__truediv__', 'conv2d bw', '__mul__', '__add__', 'assign']\n"
     ]
    }
   ],
   "source": [
    "from tinygrad import GlobalCounters, Context\n",
    "GlobalCounters.reset()\n",
    "with Context(DEBUG=2): step()"
   ]
  },
  {
   "cell_type": "code",
   "execution_count": 10,
   "metadata": {},
   "outputs": [],
   "source": [
    "from tinygrad import TinyJit\n",
    "jit_step = TinyJit(step)"
   ]
  },
  {
   "cell_type": "code",
   "execution_count": 11,
   "metadata": {},
   "outputs": [
    {
     "data": {
      "text/plain": [
       "[0.14869920800083491,\n",
       " 0.07247608400030003,\n",
       " 0.0030040419987926725,\n",
       " 0.04559262499969918,\n",
       " 0.022407042000850197]"
      ]
     },
     "execution_count": 11,
     "metadata": {},
     "output_type": "execute_result"
    }
   ],
   "source": [
    "import timeit\n",
    "timeit.repeat(jit_step, repeat=5, number=1)"
   ]
  },
  {
   "cell_type": "code",
   "execution_count": 12,
   "metadata": {},
   "outputs": [
    {
     "name": "stdout",
     "output_type": "stream",
     "text": [
      "step    0, loss 3.50, acc 73.39%\n",
      "step  100, loss 0.43, acc 95.36%\n",
      "step  200, loss 0.28, acc 96.91%\n",
      "step  300, loss 0.11, acc 97.34%\n",
      "step  400, loss 0.09, acc 97.62%\n",
      "step  500, loss 0.04, acc 97.63%\n",
      "step  600, loss 0.21, acc 97.61%\n",
      "step  700, loss 0.06, acc 97.75%\n",
      "step  800, loss 0.16, acc 97.84%\n",
      "step  900, loss 0.09, acc 98.06%\n",
      "step 1000, loss 0.22, acc 98.35%\n",
      "step 1100, loss 0.16, acc 98.21%\n",
      "step 1200, loss 0.13, acc 98.27%\n",
      "step 1300, loss 0.07, acc 98.39%\n",
      "step 1400, loss 0.06, acc 98.49%\n",
      "step 1500, loss 0.14, acc 98.07%\n",
      "step 1600, loss 0.02, acc 98.35%\n",
      "step 1700, loss 0.10, acc 98.57%\n",
      "step 1800, loss 0.16, acc 98.56%\n",
      "step 1900, loss 0.17, acc 98.59%\n",
      "step 2000, loss 0.08, acc 98.48%\n",
      "step 2100, loss 0.04, acc 98.47%\n",
      "step 2200, loss 0.06, acc 98.62%\n",
      "step 2300, loss 0.01, acc 98.50%\n",
      "step 2400, loss 0.08, acc 98.68%\n",
      "step 2500, loss 0.13, acc 98.64%\n",
      "step 2600, loss 0.08, acc 98.75%\n",
      "step 2700, loss 0.03, acc 98.77%\n",
      "step 2800, loss 0.08, acc 98.64%\n",
      "step 2900, loss 0.18, acc 98.62%\n",
      "step 3000, loss 0.21, acc 98.59%\n",
      "step 3100, loss 0.03, acc 98.67%\n",
      "step 3200, loss 0.16, acc 98.69%\n",
      "step 3300, loss 0.04, acc 98.72%\n",
      "step 3400, loss 0.05, acc 98.87%\n",
      "step 3500, loss 0.11, acc 98.85%\n",
      "step 3600, loss 0.03, acc 98.89%\n",
      "step 3700, loss 0.06, acc 98.89%\n",
      "step 3800, loss 0.05, acc 98.78%\n",
      "step 3900, loss 0.05, acc 98.87%\n",
      "step 4000, loss 0.05, acc 98.62%\n",
      "step 4100, loss 0.04, acc 98.88%\n",
      "step 4200, loss 0.09, acc 98.83%\n",
      "step 4300, loss 0.09, acc 98.69%\n",
      "step 4400, loss 0.01, acc 98.90%\n",
      "step 4500, loss 0.12, acc 98.78%\n",
      "step 4600, loss 0.05, acc 98.90%\n",
      "step 4700, loss 0.03, acc 98.73%\n",
      "step 4800, loss 0.02, acc 99.00%\n",
      "step 4900, loss 0.07, acc 98.79%\n",
      "step 5000, loss 0.10, acc 98.77%\n",
      "step 5100, loss 0.00, acc 98.76%\n",
      "step 5200, loss 0.03, acc 98.97%\n",
      "step 5300, loss 0.07, acc 98.85%\n",
      "step 5400, loss 0.10, acc 98.91%\n",
      "step 5500, loss 0.09, acc 99.02%\n",
      "step 5600, loss 0.11, acc 98.94%\n",
      "step 5700, loss 0.03, acc 98.70%\n",
      "step 5800, loss 0.10, acc 98.82%\n",
      "step 5900, loss 0.02, acc 99.00%\n",
      "step 6000, loss 0.05, acc 98.96%\n",
      "step 6100, loss 0.01, acc 98.96%\n",
      "step 6200, loss 0.11, acc 98.81%\n",
      "step 6300, loss 0.02, acc 98.90%\n",
      "step 6400, loss 0.07, acc 98.85%\n",
      "step 6500, loss 0.01, acc 98.91%\n",
      "step 6600, loss 0.01, acc 98.97%\n",
      "step 6700, loss 0.03, acc 98.79%\n",
      "step 6800, loss 0.01, acc 98.90%\n",
      "step 6900, loss 0.04, acc 98.87%\n"
     ]
    }
   ],
   "source": [
    "for step in range(7000):\n",
    "    loss = jit_step()\n",
    "\n",
    "    if step%100 == 0:\n",
    "        Tensor.training = False\n",
    "        acc = (model(X_test).argmax(axis=1) == Y_test).mean().item()\n",
    "        print(f\"step {step:4d}, loss {loss.item():.2f}, acc {acc*100.:.2f}%\")"
   ]
  },
  {
   "cell_type": "code",
   "execution_count": null,
   "metadata": {},
   "outputs": [],
   "source": []
  },
  {
   "cell_type": "code",
   "execution_count": null,
   "metadata": {},
   "outputs": [],
   "source": []
  },
  {
   "cell_type": "code",
   "execution_count": null,
   "metadata": {},
   "outputs": [],
   "source": []
  },
  {
   "cell_type": "code",
   "execution_count": null,
   "metadata": {},
   "outputs": [],
   "source": []
  },
  {
   "cell_type": "code",
   "execution_count": null,
   "metadata": {},
   "outputs": [],
   "source": []
  },
  {
   "cell_type": "code",
   "execution_count": null,
   "metadata": {},
   "outputs": [],
   "source": []
  }
 ],
 "metadata": {
  "kernelspec": {
   "display_name": "tg-venv",
   "language": "python",
   "name": "python3"
  },
  "language_info": {
   "codemirror_mode": {
    "name": "ipython",
    "version": 3
   },
   "file_extension": ".py",
   "mimetype": "text/x-python",
   "name": "python",
   "nbconvert_exporter": "python",
   "pygments_lexer": "ipython3",
   "version": "3.10.0"
  }
 },
 "nbformat": 4,
 "nbformat_minor": 2
}
